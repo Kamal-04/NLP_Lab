{
  "nbformat": 4,
  "nbformat_minor": 0,
  "metadata": {
    "colab": {
      "provenance": []
    },
    "kernelspec": {
      "name": "python3",
      "display_name": "Python 3"
    },
    "language_info": {
      "name": "python"
    }
  },
  "cells": [
    {
      "cell_type": "code",
      "source": [
        "!pip install nltk"
      ],
      "metadata": {
        "colab": {
          "base_uri": "https://localhost:8080/"
        },
        "id": "L30SkTL2dZAz",
        "outputId": "ef27a492-161c-4fc4-f990-783aaaa4ced1"
      },
      "execution_count": null,
      "outputs": [
        {
          "output_type": "stream",
          "name": "stdout",
          "text": [
            "Requirement already satisfied: nltk in /usr/local/lib/python3.10/dist-packages (3.8.1)\n",
            "Requirement already satisfied: click in /usr/local/lib/python3.10/dist-packages (from nltk) (8.1.7)\n",
            "Requirement already satisfied: joblib in /usr/local/lib/python3.10/dist-packages (from nltk) (1.3.2)\n",
            "Requirement already satisfied: regex>=2021.8.3 in /usr/local/lib/python3.10/dist-packages (from nltk) (2023.6.3)\n",
            "Requirement already satisfied: tqdm in /usr/local/lib/python3.10/dist-packages (from nltk) (4.66.1)\n"
          ]
        }
      ]
    },
    {
      "cell_type": "code",
      "execution_count": null,
      "metadata": {
        "colab": {
          "base_uri": "https://localhost:8080/"
        },
        "id": "03tzsr6mc267",
        "outputId": "89ce63c6-db9c-4b7d-a375-dad3fcb876bc"
      },
      "outputs": [
        {
          "output_type": "stream",
          "name": "stderr",
          "text": [
            "[nltk_data] Downloading package punkt to /root/nltk_data...\n",
            "[nltk_data]   Unzipping tokenizers/punkt.zip.\n"
          ]
        },
        {
          "output_type": "stream",
          "name": "stdout",
          "text": [
            "['this', 'is', 'a', 'text', 'ready', 'to', 'tokenize']\n",
            "['This', 'is', 'a', 'tweet', '@jack', '#NLP']\n",
            "['This is a sentence.', 'This is another one!', 'And this is the last one.']\n",
            "this is a sample text sample text\n"
          ]
        },
        {
          "output_type": "stream",
          "name": "stderr",
          "text": [
            "[nltk_data] Downloading package stopwords to /root/nltk_data...\n",
            "[nltk_data]   Unzipping corpora/stopwords.zip.\n"
          ]
        }
      ],
      "source": [
        "import nltk\n",
        "from nltk.tokenize import word_tokenize\n",
        "nltk.download('punkt')\n",
        "nltk.download('stopwords')\n",
        "sample_text = \"this is a text ready to tokenize\"\n",
        "tokens = word_tokenize(sample_text)\n",
        "print(tokens)\n",
        "\n",
        "\n",
        "from nltk.tokenize import TweetTokenizer\n",
        "tweet_tokenizer = TweetTokenizer()\n",
        "sample_text = \"This is a tweet @jack #NLP\"\n",
        "tokens = tweet_tokenizer.tokenize(sample_text)\n",
        "print(tokens)\n",
        "\n",
        "\n",
        "from nltk.tokenize import sent_tokenize\n",
        "sample_text = \"This is a sentence. This is another one!\\nAnd this is the last one.\"\n",
        "sentences = sent_tokenize(sample_text)\n",
        "print(sentences)\n",
        "\n",
        "import nltk\n",
        "from nltk.corpus import stopwords\n",
        "stopwords_ = set(stopwords.words(\"english\"))\n",
        "sample_text = \"this is a sample text\"\n",
        "tokens = sample_text.split()\n",
        "clean_tokens = [t for t in tokens if not t in stopwords_]\n",
        "clean_text = \" \".join(clean_tokens)\n",
        "print(sample_text, clean_text)\n"
      ]
    },
    {
      "cell_type": "code",
      "source": [
        "#pip install spacy\n",
        "#python -m spacy download en_core_web_sm\n",
        "import spacy\n",
        "nlp = spacy.load(\"en_core_web_sm\")\n",
        "\n",
        "sample_text = \"this is a text ready to tokenize\"\n",
        "doc = nlp(sample_text)\n",
        "tokens = [token.text for token in doc]\n",
        "print(sample_text, tokens)\n",
        "\n",
        "\n",
        "import spacy\n",
        "nlp = spacy.load(\"en_core_web_sm\")\n",
        "sample_text = \"This is a sentence. This is another one!\\nAnd this is the last one\"\n",
        "doc = nlp(sample_text)\n",
        "sentences = [sentence.text for sentence in doc.sents]\n",
        "print(sample_text, sentences)\n"
      ],
      "metadata": {
        "colab": {
          "base_uri": "https://localhost:8080/"
        },
        "id": "w1pbwU7hdSi6",
        "outputId": "3e6a7f0d-239c-4952-d9dd-bbc0dea997c9"
      },
      "execution_count": null,
      "outputs": [
        {
          "output_type": "stream",
          "name": "stdout",
          "text": [
            "this is a text ready to tokenize ['this', 'is', 'a', 'text', 'ready', 'to', 'tokenize']\n",
            "This is a sentence. This is another one!\n",
            "And this is the last one ['This is a sentence.', 'This is another one!\\n', 'And this is the last one']\n"
          ]
        }
      ]
    }
  ]
}