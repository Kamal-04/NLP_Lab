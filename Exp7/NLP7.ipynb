{
  "nbformat": 4,
  "nbformat_minor": 0,
  "metadata": {
    "colab": {
      "provenance": []
    },
    "kernelspec": {
      "name": "python3",
      "display_name": "Python 3"
    },
    "language_info": {
      "name": "python"
    }
  },
  "cells": [
    {
      "cell_type": "code",
      "source": [
        "!pip install nltk"
      ],
      "metadata": {
        "colab": {
          "base_uri": "https://localhost:8080/"
        },
        "id": "ITND813mC2lv",
        "outputId": "938f2d46-15e3-4757-ea5b-f7095aee9124"
      },
      "execution_count": null,
      "outputs": [
        {
          "output_type": "stream",
          "name": "stdout",
          "text": [
            "Requirement already satisfied: nltk in /usr/local/lib/python3.10/dist-packages (3.8.1)\n",
            "Requirement already satisfied: click in /usr/local/lib/python3.10/dist-packages (from nltk) (8.1.7)\n",
            "Requirement already satisfied: joblib in /usr/local/lib/python3.10/dist-packages (from nltk) (1.3.2)\n",
            "Requirement already satisfied: regex>=2021.8.3 in /usr/local/lib/python3.10/dist-packages (from nltk) (2023.6.3)\n",
            "Requirement already satisfied: tqdm in /usr/local/lib/python3.10/dist-packages (from nltk) (4.66.1)\n"
          ]
        }
      ]
    },
    {
      "cell_type": "code",
      "execution_count": null,
      "metadata": {
        "colab": {
          "base_uri": "https://localhost:8080/"
        },
        "id": "FGks4uKmCNia",
        "outputId": "7027c229-a67d-4b06-bc5b-6c97e8d3964f"
      },
      "outputs": [
        {
          "output_type": "stream",
          "name": "stdout",
          "text": [
            "Hello! I'm the college enquiry chatbot. How can I help you today?\n",
            "You: portal\n",
            "College Chatbot: None\n",
            "You: contact\n",
            "College Chatbot: You can contact the college administration at admin@examplecollege.com or call us at +1-123-456-7890. How else can I assist you?\n",
            "You: quit\n",
            "College Chatbot: Thank you for inquiring about our college. Have a great day!\n"
          ]
        }
      ],
      "source": [
        "import nltk\n",
        "from nltk.chat.util import Chat, reflections\n",
        "\n",
        "college_pairs = [\n",
        "    [r\"(hi|hello|hey)\", [\"Hello! I'm the college enquiry chatbot. How can I help you today?\"]],\n",
        "    [r\"(.*)college(.*)\", [\"Our college offers a variety of undergraduate and postgraduate programs. What specific information are you looking for?\"]],\n",
        "    [r\"admission\", [\"The admission process typically involves submitting an online application, providing academic transcripts, and possibly attending an interview. Do you have specific questions about the admission process?\"]],\n",
        "    [r\"courses\", [\"We offer a range of courses including Computer Science, Business Administration, and Biology. Which department or program are you interested in?\"]],\n",
        "    [r\"curricular\", [\"Our curricular activities include a mix of lectures, workshops, and practical sessions to provide a holistic learning experience. Is there anything specific you would like to know about our curricular activities?\"]],\n",
        "    [r\"academic calendar\", [\"The academic calendar typically includes important dates such as the start and end of the semester, holidays, and examination periods. Do you have a specific question about the academic calendar?\"]],\n",
        "    [r\"syllabus\", [\"The syllabus for each program is designed to cover a wide range of topics. Could you specify the program or department you are interested in?\"]],\n",
        "    [r\"events\", [\"We organize various events throughout the year, including cultural festivals, seminars, and sports events. Is there a particular type of event you are interested in?\"]],\n",
        "    [r\"students chapter\", [\"Our students' chapter provides a platform for students to engage in extracurricular activities, networking, and skill development. Would you like more details about a specific students' chapter?\"]],\n",
        "    [r\"student portal\", [\"The student portal is an online platform where students can access academic information, grades, and other relevant details. For login credentials or technical issues, please contact the IT department.\"]],\n",
        "    [r\"contact\", [\"You can contact the college administration at admin@examplecollege.com or call us at +1-123-456-7890. How else can I assist you?\"]],\n",
        "    [r\"quit\", [\"Thank you for inquiring about our college. If you have more questions, feel free to ask. Have a great day!\"]],\n",
        "]\n",
        "\n",
        "college_chatbot = Chat(college_pairs, reflections)\n",
        "\n",
        "def college_enquiry_chat():\n",
        "    print(\"Hello! I'm the college enquiry chatbot. How can I help you today?\")\n",
        "    while True:\n",
        "        user_input = input(\"You: \")\n",
        "        if user_input.lower() == 'quit':\n",
        "            print(\"College Chatbot: Thank you for inquiring about our college. Have a great day!\")\n",
        "            break\n",
        "        response = college_chatbot.respond(user_input)\n",
        "        print(\"College Chatbot:\", response)\n",
        "\n",
        "college_enquiry_chat()\n"
      ]
    }
  ]
}