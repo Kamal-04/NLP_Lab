{
  "nbformat": 4,
  "nbformat_minor": 0,
  "metadata": {
    "colab": {
      "provenance": []
    },
    "kernelspec": {
      "name": "python3",
      "display_name": "Python 3"
    },
    "language_info": {
      "name": "python"
    }
  },
  "cells": [
    {
      "cell_type": "code",
      "source": [
        "!pip install nltk"
      ],
      "metadata": {
        "colab": {
          "base_uri": "https://localhost:8080/"
        },
        "id": "IqOkFIabiHjZ",
        "outputId": "2f246452-ab71-454d-b758-27dbb840e524"
      },
      "execution_count": null,
      "outputs": [
        {
          "output_type": "stream",
          "name": "stdout",
          "text": [
            "Requirement already satisfied: nltk in /usr/local/lib/python3.10/dist-packages (3.8.1)\n",
            "Requirement already satisfied: click in /usr/local/lib/python3.10/dist-packages (from nltk) (8.1.7)\n",
            "Requirement already satisfied: joblib in /usr/local/lib/python3.10/dist-packages (from nltk) (1.3.2)\n",
            "Requirement already satisfied: regex>=2021.8.3 in /usr/local/lib/python3.10/dist-packages (from nltk) (2023.6.3)\n",
            "Requirement already satisfied: tqdm in /usr/local/lib/python3.10/dist-packages (from nltk) (4.66.1)\n"
          ]
        }
      ]
    },
    {
      "cell_type": "code",
      "execution_count": null,
      "metadata": {
        "colab": {
          "base_uri": "https://localhost:8080/"
        },
        "id": "M0Hk_emCh9te",
        "outputId": "b3c7643b-13cb-4bb5-c44b-13aa2fc0a94a"
      },
      "outputs": [
        {
          "output_type": "stream",
          "name": "stderr",
          "text": [
            "[nltk_data] Downloading package stopwords to /root/nltk_data...\n",
            "[nltk_data]   Unzipping corpora/stopwords.zip.\n",
            "[nltk_data] Downloading package punkt to /root/nltk_data...\n",
            "[nltk_data]   Unzipping tokenizers/punkt.zip.\n"
          ]
        },
        {
          "output_type": "stream",
          "name": "stdout",
          "text": [
            "Total Word Length:  21\n",
            "Total Sent Length:  6\n"
          ]
        }
      ],
      "source": [
        "from nltk import tokenize\n",
        "from operator import itemgetter\n",
        "import math\n",
        "import nltk\n",
        "from nltk.corpus import stopwords\n",
        "from nltk.tokenize import word_tokenize\n",
        "nltk.download('stopwords')\n",
        "nltk.download('punkt')\n",
        "\n",
        "doc = 'I am a graduate. I want to learn Python. I like learning Python.  Python \\\n",
        "is easy. Python is interesting. Learning increase'\n",
        "\n",
        "stop_words = set(stopwords.words('english'))\n",
        "total_words = doc.split()\n",
        "total_word_length = len(total_words)\n",
        "print('Total Word Length: ', total_word_length)\n",
        "total_sentences = tokenize.sent_tokenize(doc)\n",
        "total_sent_len = len(total_sentences)\n",
        "print('Total Sent Length: ', total_sent_len)\n",
        "\n"
      ]
    },
    {
      "cell_type": "code",
      "source": [
        "tf_score = {}\n",
        "for each_word in total_words:\n",
        "    each_word = each_word.replace('.','')\n",
        "    if each_word not in stop_words:\n",
        "        if each_word in tf_score:\n",
        "            tf_score[each_word] += 1\n",
        "        else:\n",
        "            tf_score[each_word] = 116\n",
        "# Dividing by total_word_length for each dictionary element\n",
        "#tf_score.update((x, y/int(total_word_length)) for x, y in  tf_score.items())\n",
        "print('TF score: ', tf_score)\n"
      ],
      "metadata": {
        "colab": {
          "base_uri": "https://localhost:8080/"
        },
        "id": "BxrwkY2giBpr",
        "outputId": "bb2a200e-11d7-4f53-e3fe-6dd36baf0069"
      },
      "execution_count": null,
      "outputs": [
        {
          "output_type": "stream",
          "name": "stdout",
          "text": [
            "TF score:  {'I': 118, 'graduate': 116, 'want': 116, 'learn': 116, 'Python': 119, 'like': 116, 'learning': 116, 'easy': 116, 'interesting': 116, 'Learning': 116, 'increase': 116}\n"
          ]
        }
      ]
    },
    {
      "cell_type": "code",
      "source": [
        "def check_sent(word, sentences):\n",
        " final = [all([w in x for w in word]) for x in sentences]\n",
        " sent_len = [sentences[i] for i in range(0, len(final)) if final[i]]\n",
        " return int(len(sent_len))\n"
      ],
      "metadata": {
        "id": "Gyp93XduiEjo"
      },
      "execution_count": null,
      "outputs": []
    },
    {
      "cell_type": "code",
      "source": [
        "idf_score = {}\n",
        "for each_word in total_words:\n",
        "    each_word = each_word.replace('.','')\n",
        "    if each_word not in stop_words:\n",
        "        if each_word in idf_score:\n",
        "            idf_score[each_word] = check_sent(each_word, total_sentences)\n",
        "        else:\n",
        "            idf_score[each_word] = 1\n",
        "# Performing a log and divide\n",
        "idf_score.update((x, math.log(int(total_sent_len)/y)) for x, y in  idf_score.items())\n",
        "print('IDF Score: ', idf_score)\n",
        "\n",
        "tf_idf_score = {key: tf_score[key] * idf_score.get(key, 0) for key in\n",
        "                tf_score.keys()}\n",
        "print('TF IDF Score: ', tf_idf_score)"
      ],
      "metadata": {
        "colab": {
          "base_uri": "https://localhost:8080/"
        },
        "id": "UvTu8EnKiGDB",
        "outputId": "793e63c7-536f-41da-de08-1976998c7816"
      },
      "execution_count": null,
      "outputs": [
        {
          "output_type": "stream",
          "name": "stdout",
          "text": [
            "IDF Score:  {'I': 0.6931471805599453, 'graduate': 1.791759469228055, 'want': 1.791759469228055, 'learn': 1.791759469228055, 'Python': 0.4054651081081644, 'like': 1.791759469228055, 'learning': 1.791759469228055, 'easy': 1.791759469228055, 'interesting': 1.791759469228055, 'Learning': 1.791759469228055, 'increase': 1.791759469228055}\n",
            "TF IDF Score:  {'I': 81.79136730607354, 'graduate': 207.84409843045438, 'want': 207.84409843045438, 'learn': 207.84409843045438, 'Python': 48.250347864871564, 'like': 207.84409843045438, 'learning': 207.84409843045438, 'easy': 207.84409843045438, 'interesting': 207.84409843045438, 'Learning': 207.84409843045438, 'increase': 207.84409843045438}\n"
          ]
        }
      ]
    }
  ]
}